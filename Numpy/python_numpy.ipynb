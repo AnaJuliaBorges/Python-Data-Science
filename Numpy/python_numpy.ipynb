{
  "nbformat": 4,
  "nbformat_minor": 0,
  "metadata": {
    "colab": {
      "name": "Python_Data_Science_Numpy.ipynb",
      "provenance": [],
      "collapsed_sections": [
        "wMdUsAq4ltjs",
        "RtG2-g1ultme",
        "e9r6ryTrltpw"
      ],
      "toc_visible": true,
      "include_colab_link": true
    },
    "kernelspec": {
      "display_name": "Python 3",
      "language": "python",
      "name": "python3"
    },
    "language_info": {
      "codemirror_mode": {
        "name": "ipython",
        "version": 3
      },
      "file_extension": ".py",
      "mimetype": "text/x-python",
      "name": "python",
      "nbconvert_exporter": "python",
      "pygments_lexer": "ipython3",
      "version": "3.6.5"
    }
  },
  "cells": [
    {
      "cell_type": "markdown",
      "metadata": {
        "id": "view-in-github",
        "colab_type": "text"
      },
      "source": [
        "<a href=\"https://colab.research.google.com/github/najub/Python-Data-Science/blob/main/Python_Data_Science_Numpy.ipynb\" target=\"_parent\"><img src=\"https://colab.research.google.com/assets/colab-badge.svg\" alt=\"Open In Colab\"/></a>"
      ]
    },
    {
      "cell_type": "markdown",
      "metadata": {
        "id": "do3kUOLbltjE"
      },
      "source": [
        "# <font color=green> PYTHON PARA DATA SCIENCE - NUMPY\n",
        "---"
      ]
    },
    {
      "cell_type": "markdown",
      "metadata": {
        "id": "umSz9TLxltjG"
      },
      "source": [
        "# <font color=green> 1. INTRODUÇÃO AO PYTHON\n",
        "---"
      ]
    },
    {
      "cell_type": "markdown",
      "metadata": {
        "id": "gSnX12-sltjH"
      },
      "source": [
        "# 1.1 Introdução"
      ]
    },
    {
      "cell_type": "markdown",
      "metadata": {
        "id": "SRG_k55kltjI"
      },
      "source": [
        "> Python é uma linguagem de programação de alto nível com suporte a múltiplos paradigmas de programação. É um projeto *open source* e desde seu surgimento, em 1991, vem se tornando uma das linguagens de programação interpretadas mais populares. \n",
        ">\n",
        "> Nos últimos anos Python desenvolveu uma comunidade ativa de processamento científico e análise de dados e vem se destacando como uma das linguagens mais relevantes quando o assunto é ciência de dados e machine learning, tanto no ambiente acadêmico como também no mercado."
      ]
    },
    {
      "cell_type": "markdown",
      "metadata": {
        "id": "2oZuKvWkltjJ"
      },
      "source": [
        "# 1.2 Instalação e ambiente de desenvolvimento"
      ]
    },
    {
      "cell_type": "markdown",
      "metadata": {
        "id": "v4P8bMEIltjK"
      },
      "source": [
        "### Instalação Local\n",
        "\n",
        "### https://www.python.org/downloads/\n",
        "### ou\n",
        "### https://www.anaconda.com/distribution/"
      ]
    },
    {
      "cell_type": "markdown",
      "metadata": {
        "id": "FZtu5tjrltjL"
      },
      "source": [
        "### Google Colaboratory\n",
        "\n",
        "### https://colab.research.google.com"
      ]
    },
    {
      "cell_type": "markdown",
      "metadata": {
        "id": "C6vbfq8DltjM"
      },
      "source": [
        "### Verificando versão"
      ]
    },
    {
      "cell_type": "code",
      "metadata": {
        "colab": {
          "base_uri": "https://localhost:8080/"
        },
        "id": "jeuAt-4NltjM",
        "outputId": "da305bae-b043-43dd-ab12-5bec8e7ba449"
      },
      "source": [
        "!python -V"
      ],
      "execution_count": null,
      "outputs": [
        {
          "output_type": "stream",
          "text": [
            "Python 3.6.9\n"
          ],
          "name": "stdout"
        }
      ]
    },
    {
      "cell_type": "markdown",
      "metadata": {
        "id": "v86aEyR2ltjR"
      },
      "source": [
        "# 1.3 Trabalhando com arrays Numpy"
      ]
    },
    {
      "cell_type": "code",
      "metadata": {
        "id": "6FEhElzNltjR"
      },
      "source": [
        "import numpy as np"
      ],
      "execution_count": null,
      "outputs": []
    },
    {
      "cell_type": "code",
      "metadata": {
        "id": "qjL5wPLKltjU"
      },
      "source": [
        "km = np.loadtxt('carros-km.txt')"
      ],
      "execution_count": null,
      "outputs": []
    },
    {
      "cell_type": "code",
      "metadata": {
        "id": "OFaxgUptltjW",
        "scrolled": true
      },
      "source": [
        "km"
      ],
      "execution_count": null,
      "outputs": []
    },
    {
      "cell_type": "code",
      "metadata": {
        "id": "FXjYowRDltjZ"
      },
      "source": [
        "years = np.loadtxt('carros-anos.txt')"
      ],
      "execution_count": null,
      "outputs": []
    },
    {
      "cell_type": "code",
      "metadata": {
        "id": "f_d2Ya-vltjb"
      },
      "source": [
        "years"
      ],
      "execution_count": null,
      "outputs": []
    },
    {
      "cell_type": "code",
      "metadata": {
        "id": "hxLZatdeltje"
      },
      "source": [
        "years = np.loadtxt('carros-anos.txt', dtype = int)"
      ],
      "execution_count": null,
      "outputs": []
    },
    {
      "cell_type": "code",
      "metadata": {
        "id": "GLsHBNakltjg"
      },
      "source": [
        "years"
      ],
      "execution_count": null,
      "outputs": []
    },
    {
      "cell_type": "code",
      "metadata": {
        "id": "oSSYu6nhltji"
      },
      "source": [
        ""
      ],
      "execution_count": null,
      "outputs": []
    },
    {
      "cell_type": "code",
      "metadata": {
        "id": "D6qMoutGltjk"
      },
      "source": [
        ""
      ],
      "execution_count": null,
      "outputs": []
    },
    {
      "cell_type": "code",
      "metadata": {
        "id": "XIBz0Vowltjn"
      },
      "source": [
        ""
      ],
      "execution_count": null,
      "outputs": []
    },
    {
      "cell_type": "code",
      "metadata": {
        "id": "u8_CU3F4ltjq"
      },
      "source": [
        ""
      ],
      "execution_count": null,
      "outputs": []
    },
    {
      "cell_type": "markdown",
      "metadata": {
        "id": "wMdUsAq4ltjs"
      },
      "source": [
        "### Obtendo a quilometragem média por ano"
      ]
    },
    {
      "cell_type": "code",
      "metadata": {
        "colab": {
          "base_uri": "https://localhost:8080/"
        },
        "id": "cD2M3s3Fltjt",
        "outputId": "e0edb2de-cef1-4971-af39-e941f514dd9b"
      },
      "source": [
        "km_year = km / (2019 - years)"
      ],
      "execution_count": null,
      "outputs": [
        {
          "output_type": "stream",
          "text": [
            "/usr/local/lib/python3.6/dist-packages/ipykernel_launcher.py:1: RuntimeWarning: invalid value encountered in true_divide\n",
            "  \"\"\"Entry point for launching an IPython kernel.\n"
          ],
          "name": "stderr"
        }
      ]
    },
    {
      "cell_type": "code",
      "metadata": {
        "id": "65IyPzKKltjv"
      },
      "source": [
        "km_year"
      ],
      "execution_count": null,
      "outputs": []
    },
    {
      "cell_type": "code",
      "metadata": {
        "id": "Z0JCmAWvltjy"
      },
      "source": [
        ""
      ],
      "execution_count": null,
      "outputs": []
    },
    {
      "cell_type": "markdown",
      "metadata": {
        "id": "aRfQfubxlto6"
      },
      "source": [
        "# <font color=green> 5. NUMPY BÁSICO\n",
        "---\n",
        "\n",
        "Numpy é a abreviação de Numerical Python e é um dos pacotes mais importantes para processamento numérico em Python. Numpy oferece a base para a maioria dos pacotes de aplicações científicas que utilizem dados numéricos em Python (estruturas de dados e algoritmos). Pode-se destacar os seguintes recursos que o pacote Numpy contém:\n",
        "\n",
        "- Um poderoso objeto array multidimensional;\n",
        "- Funções matemáticas sofisticadas para operações com arrays sem a necessidade de utilização de laços *for*;\n",
        "- Recursos de algebra linear e geração de números aleatórios\n",
        "\n",
        "Além de seus óbvios usos científicos, o pacote NumPy também é muito utilizado em análise de dados como um eficiente contêiner multidimensional de dados genéricos para transporte entre diversos algoritmos e bibliotecas em Python.\n",
        "\n",
        "**Versão:** 1.16.5\n",
        "\n",
        "**Instalação:** https://scipy.org/install.html\n",
        "\n",
        "**Documentação:** https://numpy.org/doc/1.16/"
      ]
    },
    {
      "cell_type": "markdown",
      "metadata": {
        "id": "RtG2-g1ultme"
      },
      "source": [
        "### Pacotes\n",
        "\n",
        "Existem diversos pacotes Python disponíveis para download na internet. Cada pacote tem como objetivo a solução de determinado tipo de problema e para isso são desenvolvidos novos tipos, funções e métodos.\n",
        "\n",
        "Alguns pacotes são bastante utilizados em um contexto de ciência de dados como por exemplo:\n",
        "\n",
        "- Numpy\n",
        "- Pandas\n",
        "- Scikit-learn\n",
        "- Matplotlib\n",
        "\n",
        "Alguns pacotes não são distribuídos com a instalação default do Python. Neste caso devemos instalar os pacotes que necessitamos em nosso sistema para podermos utilizar suas funcionalidades."
      ]
    },
    {
      "cell_type": "markdown",
      "metadata": {
        "id": "b8prsQjmltme"
      },
      "source": [
        "### Importando todo o pacote"
      ]
    },
    {
      "cell_type": "code",
      "metadata": {
        "id": "lP0tqXHLltmf"
      },
      "source": [
        "import numpy"
      ],
      "execution_count": 14,
      "outputs": []
    },
    {
      "cell_type": "markdown",
      "metadata": {
        "id": "HNHjJ-HhD8I-"
      },
      "source": [
        "https://numpy.org/doc/1.16/reference/generated/numpy.arange.html"
      ]
    },
    {
      "cell_type": "code",
      "metadata": {
        "id": "Y40UP3K7ltmg"
      },
      "source": [
        ""
      ],
      "execution_count": null,
      "outputs": []
    },
    {
      "cell_type": "markdown",
      "metadata": {
        "id": "84-53f4Lltmh"
      },
      "source": [
        "### Importando todo o pacote e atribuindo um novo nome "
      ]
    },
    {
      "cell_type": "code",
      "metadata": {
        "id": "CzESWck7ltmi"
      },
      "source": [
        "import numpy as np"
      ],
      "execution_count": null,
      "outputs": []
    },
    {
      "cell_type": "code",
      "metadata": {
        "id": "RC7Dr5Viltmj"
      },
      "source": [
        ""
      ],
      "execution_count": null,
      "outputs": []
    },
    {
      "cell_type": "markdown",
      "metadata": {
        "id": "WWawttSpltml"
      },
      "source": [
        "### Importando parte do pacote"
      ]
    },
    {
      "cell_type": "code",
      "metadata": {
        "id": "8kTeo3Ltltmo"
      },
      "source": [
        "from numpy import arange"
      ],
      "execution_count": 16,
      "outputs": []
    },
    {
      "cell_type": "code",
      "metadata": {
        "id": "4LPnpiEwltmt"
      },
      "source": [
        ""
      ],
      "execution_count": null,
      "outputs": []
    },
    {
      "cell_type": "markdown",
      "metadata": {
        "id": "VSmffnCklto6"
      },
      "source": [
        "# 5.1 Criando arrays Numpy"
      ]
    },
    {
      "cell_type": "code",
      "metadata": {
        "id": "Wqpin_-Plto8",
        "colab": {
          "base_uri": "https://localhost:8080/"
        },
        "outputId": "e2d0667c-ac24-4b88-ce12-ad092104e6a1"
      },
      "source": [
        "np.arange(10)"
      ],
      "execution_count": 17,
      "outputs": [
        {
          "output_type": "execute_result",
          "data": {
            "text/plain": [
              "array([0, 1, 2, 3, 4, 5, 6, 7, 8, 9])"
            ]
          },
          "metadata": {
            "tags": []
          },
          "execution_count": 17
        }
      ]
    },
    {
      "cell_type": "markdown",
      "metadata": {
        "id": "ock4Ku-Ulto8"
      },
      "source": [
        "### A partir de listas\n",
        "\n",
        "https://numpy.org/doc/1.16/user/basics.creation.html"
      ]
    },
    {
      "cell_type": "code",
      "metadata": {
        "id": "82H-09CQlto9"
      },
      "source": [
        "km_from_list = np.array([2300, 4350, 3405, 678])"
      ],
      "execution_count": 20,
      "outputs": []
    },
    {
      "cell_type": "code",
      "metadata": {
        "id": "8VYE3JSYlto9",
        "colab": {
          "base_uri": "https://localhost:8080/"
        },
        "outputId": "384bb115-6c41-42ed-8761-898f53e82ce2"
      },
      "source": [
        "km_from_list"
      ],
      "execution_count": 23,
      "outputs": [
        {
          "output_type": "execute_result",
          "data": {
            "text/plain": [
              "array([2300, 4350, 3405,  678])"
            ]
          },
          "metadata": {
            "tags": []
          },
          "execution_count": 23
        }
      ]
    },
    {
      "cell_type": "code",
      "metadata": {
        "id": "OBsa5Cfplto-",
        "colab": {
          "base_uri": "https://localhost:8080/"
        },
        "outputId": "6a67dcdf-52c6-4a99-c735-4c69e98b0b4a"
      },
      "source": [
        "type(km_from_list)"
      ],
      "execution_count": 22,
      "outputs": [
        {
          "output_type": "execute_result",
          "data": {
            "text/plain": [
              "numpy.ndarray"
            ]
          },
          "metadata": {
            "tags": []
          },
          "execution_count": 22
        }
      ]
    },
    {
      "cell_type": "markdown",
      "metadata": {
        "id": "RfQ3jJSAlto-"
      },
      "source": [
        "https://numpy.org/doc/1.16/user/basics.types.html"
      ]
    },
    {
      "cell_type": "code",
      "metadata": {
        "id": "6yLpkJcAlto-"
      },
      "source": [
        ""
      ],
      "execution_count": null,
      "outputs": []
    },
    {
      "cell_type": "markdown",
      "metadata": {
        "id": "1pFx86QPlto_"
      },
      "source": [
        "### A partir de dados externos\n",
        "\n",
        "https://numpy.org/doc/1.16/reference/generated/numpy.loadtxt.html"
      ]
    },
    {
      "cell_type": "code",
      "metadata": {
        "id": "26pQLNgrlto_"
      },
      "source": [
        "km_external = np.loadtxt('carros-km.txt', int)"
      ],
      "execution_count": 28,
      "outputs": []
    },
    {
      "cell_type": "code",
      "metadata": {
        "id": "FoP42bdpltpA",
        "scrolled": true,
        "colab": {
          "base_uri": "https://localhost:8080/"
        },
        "outputId": "4c2d50f4-a5e1-470a-996c-5f29b2054ce4"
      },
      "source": [
        "km_external"
      ],
      "execution_count": 29,
      "outputs": [
        {
          "output_type": "execute_result",
          "data": {
            "text/plain": [
              "array([ 44410,   5712,  37123,      0,  25757,  10728,      0,  77599,\n",
              "        99197,  37978,  12859,   8052,  89773,      0,  41457, 115607,\n",
              "        46449,      0,  37086,  15173, 101193,      0,  98079, 102959,\n",
              "            0,      0,   5795,      0,  58848,  94381,  30163,  53332,\n",
              "        17720,  33808,  90684,  43975,      0,      0,   5526,      0,\n",
              "        93415,  40762,      0,  86302,      0,   9755,  69945,   2395,\n",
              "            0,  80349,  85554,  50496,  67716,  93947,  35345,  81007,\n",
              "       119513,      0,      0,      0,      0,      0, 118895,  48509,\n",
              "       100912,  95649,      0,  90495,      0,  29132,  23802,  84992,\n",
              "        54395,  26731,  44329, 118236, 113808,    610,      0,      0,\n",
              "        12887,  79607,  90924,  42733,      0,      0, 117714, 113885,\n",
              "            0,  30511,  74867, 119760,   8356,  64247,  88661,   4539,\n",
              "       110116,  33215,  92001,      0,  81708,  70641,      0,  91277,\n",
              "        26544,  52596,  47503,  89056,  28834, 110564,  56638,  17357,\n",
              "        74015,  15196,      0,  10821,      0,      0,   9595,  99052,\n",
              "        52389, 119945,  96005,  31639,      0,  80187,      0,  58212,\n",
              "        61672,  32017,      0,  56944,      0,  86519,   4821, 101025,\n",
              "        30705,      0,  32555, 103389,      0,  55289,      0,      0,\n",
              "       115930,  66437,  96800,  14237,  19896, 113045, 114942,   3173,\n",
              "        83611,  25356,  88634,   2314,   2627,  52034,      0,      0,\n",
              "        79577, 108201,  76453,  57683,  96610, 109001,  26212,  45971,\n",
              "        49182,  49907,  38620,  60996,  73914, 107392,   9146,      0,\n",
              "        17924,      0, 116949,  20476,  52804,   8849,  91724,  32056,\n",
              "        74886,      0,      0,  52189,  83559,      0,  20328,      0,\n",
              "        75577,  33659, 104341,  25510,  18965,  87161,   6652,  55738,\n",
              "            0,      0,      0,  64320,      0,  68678,  71697,      0,\n",
              "        34783,  33772,  85127,  13606,  35647,  95128,  14046,  41194,\n",
              "            0,  96100, 103900,  43814,  24638,      0, 110966,  15987,\n",
              "        53369,  10077,  71544,    107,   8394,  41498, 116002, 100858,\n",
              "        67475,   8497,   4420,      0,  58537,      0,      0, 112016,\n",
              "        91840, 112787,      0,      0,   9293,      0,  55083,  48796,\n",
              "            0,  89685,  85384,  98108,  71280,  27505,  29981,  52637,\n",
              "         7685,  50188])"
            ]
          },
          "metadata": {
            "tags": []
          },
          "execution_count": 29
        }
      ]
    },
    {
      "cell_type": "code",
      "metadata": {
        "id": "MNPjZJbYltpA",
        "colab": {
          "base_uri": "https://localhost:8080/"
        },
        "outputId": "2261c6fa-21fa-4081-9383-d645c20ea191"
      },
      "source": [
        "km_external.dtype"
      ],
      "execution_count": 31,
      "outputs": [
        {
          "output_type": "execute_result",
          "data": {
            "text/plain": [
              "dtype('int64')"
            ]
          },
          "metadata": {
            "tags": []
          },
          "execution_count": 31
        }
      ]
    },
    {
      "cell_type": "markdown",
      "metadata": {
        "id": "_wnTg0wJltpB"
      },
      "source": [
        "### Arrays com duas dimensões"
      ]
    },
    {
      "cell_type": "code",
      "metadata": {
        "id": "Gt1dL27GltpB",
        "scrolled": true,
        "colab": {
          "base_uri": "https://localhost:8080/"
        },
        "outputId": "8d9ec4d4-f9bc-47d8-9295-dce663618eec"
      },
      "source": [
        "dados = [ \n",
        "    ['Rodas de liga', 'Travas elétricas', 'Piloto automático', 'Bancos de couro', 'Ar condicionado', 'Sensor de estacionamento', 'Sensor crepuscular', 'Sensor de chuva'],\n",
        "    ['Central multimídia', 'Teto panorâmico', 'Freios ABS', '4 X 4', 'Painel digital', 'Piloto automático', 'Bancos de couro', 'Câmera de estacionamento'],\n",
        "    ['Piloto automático', 'Controle de estabilidade', 'Sensor crepuscular', 'Freios ABS', 'Câmbio automático', 'Bancos de couro', 'Central multimídia', 'Vidros elétricos']\n",
        "]\n",
        "dados"
      ],
      "execution_count": 32,
      "outputs": [
        {
          "output_type": "execute_result",
          "data": {
            "text/plain": [
              "[['Rodas de liga',\n",
              "  'Travas elétricas',\n",
              "  'Piloto automático',\n",
              "  'Bancos de couro',\n",
              "  'Ar condicionado',\n",
              "  'Sensor de estacionamento',\n",
              "  'Sensor crepuscular',\n",
              "  'Sensor de chuva'],\n",
              " ['Central multimídia',\n",
              "  'Teto panorâmico',\n",
              "  'Freios ABS',\n",
              "  '4 X 4',\n",
              "  'Painel digital',\n",
              "  'Piloto automático',\n",
              "  'Bancos de couro',\n",
              "  'Câmera de estacionamento'],\n",
              " ['Piloto automático',\n",
              "  'Controle de estabilidade',\n",
              "  'Sensor crepuscular',\n",
              "  'Freios ABS',\n",
              "  'Câmbio automático',\n",
              "  'Bancos de couro',\n",
              "  'Central multimídia',\n",
              "  'Vidros elétricos']]"
            ]
          },
          "metadata": {
            "tags": []
          },
          "execution_count": 32
        }
      ]
    },
    {
      "cell_type": "code",
      "metadata": {
        "id": "IlbYeZPkltpC",
        "colab": {
          "base_uri": "https://localhost:8080/"
        },
        "outputId": "e7d42220-ac04-4bb0-9745-a945ccec1655"
      },
      "source": [
        "Acessorios = np.array(dados)\n",
        "Acessorios"
      ],
      "execution_count": 34,
      "outputs": [
        {
          "output_type": "execute_result",
          "data": {
            "text/plain": [
              "array([['Rodas de liga', 'Travas elétricas', 'Piloto automático',\n",
              "        'Bancos de couro', 'Ar condicionado', 'Sensor de estacionamento',\n",
              "        'Sensor crepuscular', 'Sensor de chuva'],\n",
              "       ['Central multimídia', 'Teto panorâmico', 'Freios ABS', '4 X 4',\n",
              "        'Painel digital', 'Piloto automático', 'Bancos de couro',\n",
              "        'Câmera de estacionamento'],\n",
              "       ['Piloto automático', 'Controle de estabilidade',\n",
              "        'Sensor crepuscular', 'Freios ABS', 'Câmbio automático',\n",
              "        'Bancos de couro', 'Central multimídia', 'Vidros elétricos']],\n",
              "      dtype='<U24')"
            ]
          },
          "metadata": {
            "tags": []
          },
          "execution_count": 34
        }
      ]
    },
    {
      "cell_type": "code",
      "metadata": {
        "id": "FgjmWozgltpD",
        "scrolled": true,
        "colab": {
          "base_uri": "https://localhost:8080/"
        },
        "outputId": "9a4388a4-d19e-42e3-b785-28ea55390d5d"
      },
      "source": [
        "km_external.shape \n"
      ],
      "execution_count": 36,
      "outputs": [
        {
          "output_type": "execute_result",
          "data": {
            "text/plain": [
              "(258,)"
            ]
          },
          "metadata": {
            "tags": []
          },
          "execution_count": 36
        }
      ]
    },
    {
      "cell_type": "code",
      "metadata": {
        "id": "TDM9HskUltpD",
        "colab": {
          "base_uri": "https://localhost:8080/"
        },
        "outputId": "b2ba37c7-1d32-4d44-b472-9676620c9516"
      },
      "source": [
        "Acessorios.shape #linha,coluna"
      ],
      "execution_count": 37,
      "outputs": [
        {
          "output_type": "execute_result",
          "data": {
            "text/plain": [
              "(3, 8)"
            ]
          },
          "metadata": {
            "tags": []
          },
          "execution_count": 37
        }
      ]
    },
    {
      "cell_type": "code",
      "metadata": {
        "id": "bBmnzpF5ltpE"
      },
      "source": [
        ""
      ],
      "execution_count": null,
      "outputs": []
    },
    {
      "cell_type": "markdown",
      "metadata": {
        "id": "cPbkST9pltpE"
      },
      "source": [
        "### Comparando desempenho com listas"
      ]
    },
    {
      "cell_type": "code",
      "metadata": {
        "id": "tTPC-G4vltpE"
      },
      "source": [
        "np_array = np.arange(1000000)"
      ],
      "execution_count": 38,
      "outputs": []
    },
    {
      "cell_type": "code",
      "metadata": {
        "id": "PIC-ndg9ltpF"
      },
      "source": [
        "py_list = list(range(1000000))"
      ],
      "execution_count": 41,
      "outputs": []
    },
    {
      "cell_type": "code",
      "metadata": {
        "id": "vXy57nk2ltpF",
        "colab": {
          "base_uri": "https://localhost:8080/"
        },
        "outputId": "346300d2-af99-47c2-ec22-de1f9e538a0a"
      },
      "source": [
        "%time for _ in range(100): np_array*=2"
      ],
      "execution_count": 40,
      "outputs": [
        {
          "output_type": "stream",
          "text": [
            "CPU times: user 73.3 ms, sys: 0 ns, total: 73.3 ms\n",
            "Wall time: 76.8 ms\n"
          ],
          "name": "stdout"
        }
      ]
    },
    {
      "cell_type": "code",
      "metadata": {
        "id": "I94lVgCRltpG",
        "colab": {
          "base_uri": "https://localhost:8080/"
        },
        "outputId": "d38e5bd0-a3d6-41f2-f49d-73ac38b3ce6f"
      },
      "source": [
        "%time for _ in range(100): py_list = [x * 2 for x in py_list]"
      ],
      "execution_count": 42,
      "outputs": [
        {
          "output_type": "stream",
          "text": [
            "CPU times: user 7.71 s, sys: 1.55 s, total: 9.26 s\n",
            "Wall time: 9.29 s\n"
          ],
          "name": "stdout"
        }
      ]
    },
    {
      "cell_type": "markdown",
      "metadata": {
        "id": "ul4MuKyTltpG"
      },
      "source": [
        "# 5.2 Operações aritméticas com arrays Numpy"
      ]
    },
    {
      "cell_type": "markdown",
      "metadata": {
        "id": "QwnxO_rYltpH"
      },
      "source": [
        "### Operações entre arrays e constantes"
      ]
    },
    {
      "cell_type": "code",
      "metadata": {
        "id": "63KVHPK0ltpH"
      },
      "source": [
        "km = [44410., 5712., 37123., 0., 25757.]\n",
        "anos = [2003, 1991, 1990, 2019, 2006]"
      ],
      "execution_count": null,
      "outputs": []
    },
    {
      "cell_type": "code",
      "metadata": {
        "id": "AryIZaBIltpH"
      },
      "source": [
        "# idade = 2019 - anos"
      ],
      "execution_count": 44,
      "outputs": []
    },
    {
      "cell_type": "code",
      "metadata": {
        "id": "s8GvEk4HltpI"
      },
      "source": [
        "km = np.array([44410., 5712., 37123., 0., 25757.])\n",
        "anos = np.array([2003, 1991, 1990, 2019, 2006])"
      ],
      "execution_count": 45,
      "outputs": []
    },
    {
      "cell_type": "code",
      "metadata": {
        "id": "aUnYV7OultpI"
      },
      "source": [
        "idade = 2019 - anos"
      ],
      "execution_count": 46,
      "outputs": []
    },
    {
      "cell_type": "code",
      "metadata": {
        "id": "vg5yZ9IpltpJ",
        "colab": {
          "base_uri": "https://localhost:8080/"
        },
        "outputId": "40f91742-244f-4783-fe0e-e987b269c707"
      },
      "source": [
        "idade"
      ],
      "execution_count": 47,
      "outputs": [
        {
          "output_type": "execute_result",
          "data": {
            "text/plain": [
              "array([16, 28, 29,  0, 13])"
            ]
          },
          "metadata": {
            "tags": []
          },
          "execution_count": 47
        }
      ]
    },
    {
      "cell_type": "markdown",
      "metadata": {
        "id": "qn1PUsM9ltpJ"
      },
      "source": [
        "### Operações entre arrays"
      ]
    },
    {
      "cell_type": "code",
      "metadata": {
        "id": "gU_d5aZkltpJ",
        "colab": {
          "base_uri": "https://localhost:8080/"
        },
        "outputId": "be143ba6-a6fe-444c-b33c-ec0d1c11c178"
      },
      "source": [
        "km_media = km / idade"
      ],
      "execution_count": 51,
      "outputs": [
        {
          "output_type": "stream",
          "text": [
            "/usr/local/lib/python3.6/dist-packages/ipykernel_launcher.py:1: RuntimeWarning: invalid value encountered in true_divide\n",
            "  \"\"\"Entry point for launching an IPython kernel.\n"
          ],
          "name": "stderr"
        }
      ]
    },
    {
      "cell_type": "code",
      "metadata": {
        "id": "U9DXntUEltpK",
        "colab": {
          "base_uri": "https://localhost:8080/"
        },
        "outputId": "9216b047-2eec-4fe2-bb7d-11e5b3cc8f80"
      },
      "source": [
        "km_media"
      ],
      "execution_count": 52,
      "outputs": [
        {
          "output_type": "execute_result",
          "data": {
            "text/plain": [
              "array([2775.625     ,  204.        , 1280.10344828,           nan,\n",
              "       1981.30769231])"
            ]
          },
          "metadata": {
            "tags": []
          },
          "execution_count": 52
        }
      ]
    },
    {
      "cell_type": "code",
      "metadata": {
        "id": "n0rPxgY1ltpL"
      },
      "source": [
        ""
      ],
      "execution_count": 47,
      "outputs": []
    },
    {
      "cell_type": "markdown",
      "metadata": {
        "id": "o4-gsGICltpN"
      },
      "source": [
        "### Operações com arrays de duas dimensões"
      ]
    },
    {
      "cell_type": "code",
      "metadata": {
        "id": "VT71Pbb3ltpN",
        "colab": {
          "base_uri": "https://localhost:8080/"
        },
        "outputId": "83a6cd38-7081-409b-a665-bfedeacde9e4"
      },
      "source": [
        "dados = np.array([km, anos])\n",
        "dados"
      ],
      "execution_count": 54,
      "outputs": [
        {
          "output_type": "execute_result",
          "data": {
            "text/plain": [
              "array([[44410.,  5712., 37123.,     0., 25757.],\n",
              "       [ 2003.,  1991.,  1990.,  2019.,  2006.]])"
            ]
          },
          "metadata": {
            "tags": []
          },
          "execution_count": 54
        }
      ]
    },
    {
      "cell_type": "code",
      "metadata": {
        "id": "bgDe00q8ltpO",
        "colab": {
          "base_uri": "https://localhost:8080/"
        },
        "outputId": "39d23891-026d-45dc-9d43-7cd0d664da76"
      },
      "source": [
        "km_media = dados[0] / (2019 - dados[1])"
      ],
      "execution_count": 57,
      "outputs": [
        {
          "output_type": "stream",
          "text": [
            "/usr/local/lib/python3.6/dist-packages/ipykernel_launcher.py:1: RuntimeWarning: invalid value encountered in true_divide\n",
            "  \"\"\"Entry point for launching an IPython kernel.\n"
          ],
          "name": "stderr"
        }
      ]
    },
    {
      "cell_type": "code",
      "metadata": {
        "id": "jIQU2ugKltpP",
        "colab": {
          "base_uri": "https://localhost:8080/"
        },
        "outputId": "90d5c233-2de4-43be-879a-344eb3487ddf"
      },
      "source": [
        "km_media"
      ],
      "execution_count": 58,
      "outputs": [
        {
          "output_type": "execute_result",
          "data": {
            "text/plain": [
              "array([2775.625     ,  204.        , 1280.10344828,           nan,\n",
              "       1981.30769231])"
            ]
          },
          "metadata": {
            "tags": []
          },
          "execution_count": 58
        }
      ]
    },
    {
      "cell_type": "markdown",
      "metadata": {
        "id": "dsgz-E5ZltpP"
      },
      "source": [
        "![1410-img01.png](https://caelum-online-public.s3.amazonaws.com/1410-pythondatascience/01/1410-img01.png)"
      ]
    },
    {
      "cell_type": "code",
      "metadata": {
        "id": "imANn6HultpQ"
      },
      "source": [
        ""
      ],
      "execution_count": null,
      "outputs": []
    },
    {
      "cell_type": "code",
      "metadata": {
        "id": "Nkp9ljkvltpQ"
      },
      "source": [
        ""
      ],
      "execution_count": null,
      "outputs": []
    },
    {
      "cell_type": "code",
      "metadata": {
        "id": "njJ2z3HJltpR"
      },
      "source": [
        ""
      ],
      "execution_count": null,
      "outputs": []
    },
    {
      "cell_type": "markdown",
      "metadata": {
        "id": "4CAwtS0-ltpR"
      },
      "source": [
        "# 5.3 Seleções com arrays Numpy"
      ]
    },
    {
      "cell_type": "markdown",
      "metadata": {
        "id": "QDAT1vODltpS"
      },
      "source": [
        "![1410-img01.png](https://caelum-online-public.s3.amazonaws.com/1410-pythondatascience/01/1410-img01.png)"
      ]
    },
    {
      "cell_type": "code",
      "metadata": {
        "id": "nZpPGS2TltpS",
        "colab": {
          "base_uri": "https://localhost:8080/"
        },
        "outputId": "75c85d6c-2463-476d-dde6-a9869b1aa605"
      },
      "source": [
        "contador = np.arange(10)\n",
        "contador"
      ],
      "execution_count": 59,
      "outputs": [
        {
          "output_type": "execute_result",
          "data": {
            "text/plain": [
              "array([0, 1, 2, 3, 4, 5, 6, 7, 8, 9])"
            ]
          },
          "metadata": {
            "tags": []
          },
          "execution_count": 59
        }
      ]
    },
    {
      "cell_type": "markdown",
      "metadata": {
        "id": "b--BIPcOltpT"
      },
      "source": [
        "![1410-img02.png](https://caelum-online-public.s3.amazonaws.com/1410-pythondatascience/01/1410-img02.png)"
      ]
    },
    {
      "cell_type": "markdown",
      "metadata": {
        "id": "86-hOHa7ltpT"
      },
      "source": [
        "### Indexação \n",
        "\n",
        "<font color=red>**Observação:**</font> A indexação tem origem no zero."
      ]
    },
    {
      "cell_type": "code",
      "metadata": {
        "id": "mr0Q_X0JltpT",
        "colab": {
          "base_uri": "https://localhost:8080/"
        },
        "outputId": "b2d1fa90-b6cf-44fe-992c-19a0cd6e2170"
      },
      "source": [
        "contador = np.arange(10)\n",
        "contador"
      ],
      "execution_count": 60,
      "outputs": [
        {
          "output_type": "execute_result",
          "data": {
            "text/plain": [
              "array([0, 1, 2, 3, 4, 5, 6, 7, 8, 9])"
            ]
          },
          "metadata": {
            "tags": []
          },
          "execution_count": 60
        }
      ]
    },
    {
      "cell_type": "code",
      "metadata": {
        "id": "VxiR_IgdltpU",
        "colab": {
          "base_uri": "https://localhost:8080/"
        },
        "outputId": "4461c2df-e424-4719-c5ad-0be11396b460"
      },
      "source": [
        "contador[5] #quero o item 6"
      ],
      "execution_count": 61,
      "outputs": [
        {
          "output_type": "execute_result",
          "data": {
            "text/plain": [
              "5"
            ]
          },
          "metadata": {
            "tags": []
          },
          "execution_count": 61
        }
      ]
    },
    {
      "cell_type": "code",
      "metadata": {
        "id": "xGDomIyAltpU",
        "colab": {
          "base_uri": "https://localhost:8080/"
        },
        "outputId": "4acfc0fd-20eb-45c4-c41b-45f885bba04c"
      },
      "source": [
        "contador[-1]"
      ],
      "execution_count": 62,
      "outputs": [
        {
          "output_type": "execute_result",
          "data": {
            "text/plain": [
              "9"
            ]
          },
          "metadata": {
            "tags": []
          },
          "execution_count": 62
        }
      ]
    },
    {
      "cell_type": "code",
      "metadata": {
        "id": "QEO5Za5PltpV",
        "colab": {
          "base_uri": "https://localhost:8080/"
        },
        "outputId": "9d18ae4e-a03c-46ba-fddf-2ab5e6f7d1e5"
      },
      "source": [
        "dados[1][2]"
      ],
      "execution_count": 63,
      "outputs": [
        {
          "output_type": "execute_result",
          "data": {
            "text/plain": [
              "1990.0"
            ]
          },
          "metadata": {
            "tags": []
          },
          "execution_count": 63
        }
      ]
    },
    {
      "cell_type": "code",
      "metadata": {
        "id": "rvkeMK8KltpV",
        "colab": {
          "base_uri": "https://localhost:8080/"
        },
        "outputId": "7bbef488-f040-43cb-d11e-11875f8ab9d8"
      },
      "source": [
        "dados[1,2]"
      ],
      "execution_count": 64,
      "outputs": [
        {
          "output_type": "execute_result",
          "data": {
            "text/plain": [
              "1990.0"
            ]
          },
          "metadata": {
            "tags": []
          },
          "execution_count": 64
        }
      ]
    },
    {
      "cell_type": "code",
      "metadata": {
        "id": "X8c-lJRJltpW"
      },
      "source": [
        ""
      ],
      "execution_count": null,
      "outputs": []
    },
    {
      "cell_type": "markdown",
      "metadata": {
        "id": "fCWUSI1zltpZ"
      },
      "source": [
        "## <font color=green>**Dica:**</font>\n",
        "### *ndarray[ linha ][ coluna ]* ou *ndarray[ linha, coluna ]*"
      ]
    },
    {
      "cell_type": "code",
      "metadata": {
        "id": "Nxc3uY-ZltpZ",
        "colab": {
          "base_uri": "https://localhost:8080/"
        },
        "outputId": "0373db2b-6a13-4948-ce86-28af54ea31f1"
      },
      "source": [
        "dados[1][2]"
      ],
      "execution_count": 65,
      "outputs": [
        {
          "output_type": "execute_result",
          "data": {
            "text/plain": [
              "1990.0"
            ]
          },
          "metadata": {
            "tags": []
          },
          "execution_count": 65
        }
      ]
    },
    {
      "cell_type": "code",
      "metadata": {
        "id": "xp8ByjualtpZ",
        "colab": {
          "base_uri": "https://localhost:8080/"
        },
        "outputId": "b1b4efe6-8cdf-4b36-9ef3-a72ec4a5a2ce"
      },
      "source": [
        "dados[1,2]"
      ],
      "execution_count": 66,
      "outputs": [
        {
          "output_type": "execute_result",
          "data": {
            "text/plain": [
              "1990.0"
            ]
          },
          "metadata": {
            "tags": []
          },
          "execution_count": 66
        }
      ]
    },
    {
      "cell_type": "markdown",
      "metadata": {
        "id": "7osmTUC4ltpa"
      },
      "source": [
        " ### Fatiamentos\n",
        " \n",
        "A sintaxe para realizar fatiamento em um array Numpy é $i : j : k$ onde $i$ é o índice inicial, $j$ é o índice de parada, e $k$ é o indicador de passo ($k\\neq0$)\n",
        " \n",
        "<font color=red>**Observação:**</font> Nos fatiamentos (*slices*) o item com índice i é **incluído** e o item com índice j **não é incluído** no resultado."
      ]
    },
    {
      "cell_type": "markdown",
      "metadata": {
        "id": "HEx4TbNlltpa"
      },
      "source": [
        "![1410-img01.png](https://caelum-online-public.s3.amazonaws.com/1410-pythondatascience/01/1410-img01.png)"
      ]
    },
    {
      "cell_type": "code",
      "metadata": {
        "id": "tlaD1SENltpb",
        "colab": {
          "base_uri": "https://localhost:8080/"
        },
        "outputId": "a3c57caa-5faf-4e6f-9a62-f141aa8e1ac5"
      },
      "source": [
        "contador[1:4] #pegar os elementos de 1 ao 3"
      ],
      "execution_count": 67,
      "outputs": [
        {
          "output_type": "execute_result",
          "data": {
            "text/plain": [
              "array([1, 2, 3])"
            ]
          },
          "metadata": {
            "tags": []
          },
          "execution_count": 67
        }
      ]
    },
    {
      "cell_type": "code",
      "metadata": {
        "id": "vXLIO1cVltpc",
        "colab": {
          "base_uri": "https://localhost:8080/"
        },
        "outputId": "90f43877-8a98-415b-96bf-47650fd7ef61"
      },
      "source": [
        "contador[1:8:2] #pegar os elementos ímpares do 1 ao 7"
      ],
      "execution_count": 68,
      "outputs": [
        {
          "output_type": "execute_result",
          "data": {
            "text/plain": [
              "array([1, 3, 5, 7])"
            ]
          },
          "metadata": {
            "tags": []
          },
          "execution_count": 68
        }
      ]
    },
    {
      "cell_type": "code",
      "metadata": {
        "id": "kYLgsQcHltpc",
        "colab": {
          "base_uri": "https://localhost:8080/"
        },
        "outputId": "48a4400a-11a7-4bfe-9ea5-43ed2d5fab7e"
      },
      "source": [
        "contador[::2] #pegar os elementos pares do array"
      ],
      "execution_count": 70,
      "outputs": [
        {
          "output_type": "execute_result",
          "data": {
            "text/plain": [
              "array([0, 2, 4, 6, 8])"
            ]
          },
          "metadata": {
            "tags": []
          },
          "execution_count": 70
        }
      ]
    },
    {
      "cell_type": "code",
      "metadata": {
        "id": "H2MJpIasltpd",
        "colab": {
          "base_uri": "https://localhost:8080/"
        },
        "outputId": "ca501c78-e986-44c8-95e8-ac815af038b5"
      },
      "source": [
        "contador[1::2] #pegar os elementos [ímpares] do array"
      ],
      "execution_count": 71,
      "outputs": [
        {
          "output_type": "execute_result",
          "data": {
            "text/plain": [
              "array([1, 3, 5, 7, 9])"
            ]
          },
          "metadata": {
            "tags": []
          },
          "execution_count": 71
        }
      ]
    },
    {
      "cell_type": "code",
      "metadata": {
        "id": "YVzf4fNCltpe",
        "colab": {
          "base_uri": "https://localhost:8080/"
        },
        "outputId": "06029b07-d0c0-4783-d535-2d5baa918e2f"
      },
      "source": [
        "dados[:,1:4] #pegar todas as linhas entre o 1° e o 3°"
      ],
      "execution_count": 72,
      "outputs": [
        {
          "output_type": "execute_result",
          "data": {
            "text/plain": [
              "array([[ 5712., 37123.,     0.],\n",
              "       [ 1991.,  1990.,  2019.]])"
            ]
          },
          "metadata": {
            "tags": []
          },
          "execution_count": 72
        }
      ]
    },
    {
      "cell_type": "code",
      "metadata": {
        "id": "bPyQsUFPltpf",
        "colab": {
          "base_uri": "https://localhost:8080/"
        },
        "outputId": "12b9f414-2021-4ef0-8aa3-c126d8fb5b01"
      },
      "source": [
        "dados[:, 1:3][0]/(2019 - dados[:,1:3][1]) #calcular a velocidade médiad e dois veículos"
      ],
      "execution_count": 73,
      "outputs": [
        {
          "output_type": "execute_result",
          "data": {
            "text/plain": [
              "array([ 204.        , 1280.10344828])"
            ]
          },
          "metadata": {
            "tags": []
          },
          "execution_count": 73
        }
      ]
    },
    {
      "cell_type": "code",
      "metadata": {
        "id": "IRxfixG-ltpg"
      },
      "source": [
        ""
      ],
      "execution_count": 64,
      "outputs": []
    },
    {
      "cell_type": "code",
      "metadata": {
        "id": "wfoJ84haltph"
      },
      "source": [
        ""
      ],
      "execution_count": 64,
      "outputs": []
    },
    {
      "cell_type": "code",
      "metadata": {
        "id": "UeejSXUAltph"
      },
      "source": [
        ""
      ],
      "execution_count": 64,
      "outputs": []
    },
    {
      "cell_type": "markdown",
      "metadata": {
        "id": "-fW4EXIqltpi"
      },
      "source": [
        "### Indexação com array booleano\n",
        "\n",
        "<font color=red>**Observação:**</font> Seleciona um grupo de linhas e colunas segundo os rótulos ou um array booleano."
      ]
    },
    {
      "cell_type": "code",
      "metadata": {
        "id": "MgmH-rCSltpi",
        "colab": {
          "base_uri": "https://localhost:8080/"
        },
        "outputId": "0a14f510-f7bc-4ce6-a273-845e39205e13"
      },
      "source": [
        "contador = np.arange(10)\n",
        "contador"
      ],
      "execution_count": 74,
      "outputs": [
        {
          "output_type": "execute_result",
          "data": {
            "text/plain": [
              "array([0, 1, 2, 3, 4, 5, 6, 7, 8, 9])"
            ]
          },
          "metadata": {
            "tags": []
          },
          "execution_count": 74
        }
      ]
    },
    {
      "cell_type": "code",
      "metadata": {
        "id": "HN1i-BlLltpj",
        "colab": {
          "base_uri": "https://localhost:8080/"
        },
        "outputId": "a99bf829-9702-4887-9978-ed47e80caa5e"
      },
      "source": [
        "contador > 5"
      ],
      "execution_count": 75,
      "outputs": [
        {
          "output_type": "execute_result",
          "data": {
            "text/plain": [
              "array([False, False, False, False, False, False,  True,  True,  True,\n",
              "        True])"
            ]
          },
          "metadata": {
            "tags": []
          },
          "execution_count": 75
        }
      ]
    },
    {
      "cell_type": "code",
      "metadata": {
        "id": "iXJa9tL4ltpj",
        "colab": {
          "base_uri": "https://localhost:8080/"
        },
        "outputId": "871b1c07-f44a-4430-e306-51036c9f2317"
      },
      "source": [
        "contador[contador > 5]"
      ],
      "execution_count": 77,
      "outputs": [
        {
          "output_type": "execute_result",
          "data": {
            "text/plain": [
              "array([6, 7, 8, 9])"
            ]
          },
          "metadata": {
            "tags": []
          },
          "execution_count": 77
        }
      ]
    },
    {
      "cell_type": "code",
      "metadata": {
        "id": "54gH6X5eltpk"
      },
      "source": [
        "#calcular a quilometragem média dos veículos fabricados apos o ano 2000"
      ],
      "execution_count": 64,
      "outputs": []
    },
    {
      "cell_type": "code",
      "metadata": {
        "id": "F3z6zMELltpk",
        "colab": {
          "base_uri": "https://localhost:8080/"
        },
        "outputId": "3d4e7e65-0bde-4151-939b-2a6d3a7390bd"
      },
      "source": [
        "dados[1] > 2000"
      ],
      "execution_count": 79,
      "outputs": [
        {
          "output_type": "execute_result",
          "data": {
            "text/plain": [
              "array([ True, False, False,  True,  True])"
            ]
          },
          "metadata": {
            "tags": []
          },
          "execution_count": 79
        }
      ]
    },
    {
      "cell_type": "code",
      "metadata": {
        "id": "pk8A68z1ltpl",
        "colab": {
          "base_uri": "https://localhost:8080/"
        },
        "outputId": "f8366180-43f3-493c-b52d-4be4a4f0537b"
      },
      "source": [
        "dados[:, dados[1] > 2000]"
      ],
      "execution_count": 80,
      "outputs": [
        {
          "output_type": "execute_result",
          "data": {
            "text/plain": [
              "array([[44410.,     0., 25757.],\n",
              "       [ 2003.,  2019.,  2006.]])"
            ]
          },
          "metadata": {
            "tags": []
          },
          "execution_count": 80
        }
      ]
    },
    {
      "cell_type": "code",
      "metadata": {
        "id": "WUVMN29_ltpm",
        "colab": {
          "base_uri": "https://localhost:8080/"
        },
        "outputId": "1befe2ed-d293-4e81-e013-f4cc32d923cd"
      },
      "source": [
        "dados[:, dados[1] > 2000][0] / (2019 - dados[:, dados[1] > 2000][1])"
      ],
      "execution_count": 81,
      "outputs": [
        {
          "output_type": "stream",
          "text": [
            "/usr/local/lib/python3.6/dist-packages/ipykernel_launcher.py:1: RuntimeWarning: invalid value encountered in true_divide\n",
            "  \"\"\"Entry point for launching an IPython kernel.\n"
          ],
          "name": "stderr"
        },
        {
          "output_type": "execute_result",
          "data": {
            "text/plain": [
              "array([2775.625     ,           nan, 1981.30769231])"
            ]
          },
          "metadata": {
            "tags": []
          },
          "execution_count": 81
        }
      ]
    },
    {
      "cell_type": "markdown",
      "metadata": {
        "id": "Acw1DffHltpn"
      },
      "source": [
        "# 5.4 Atributos e métodos de arrays Numpy"
      ]
    },
    {
      "cell_type": "markdown",
      "metadata": {
        "id": "RBnSne6Eltpo"
      },
      "source": [
        "### Atributos\n",
        "\n",
        "https://numpy.org/doc/1.16/reference/arrays.ndarray.html#array-attributes"
      ]
    },
    {
      "cell_type": "code",
      "metadata": {
        "id": "stjvD6m8ltpo",
        "colab": {
          "base_uri": "https://localhost:8080/"
        },
        "outputId": "22fc646a-0f97-41a2-9c23-102999e0d8f3"
      },
      "source": [
        "dados = np.array([[44410.,  5712., 37123.,     0., 25757.], [ 2003.,  1991.,  1990.,  2019.,  2006.]])\n",
        "dados"
      ],
      "execution_count": 82,
      "outputs": [
        {
          "output_type": "execute_result",
          "data": {
            "text/plain": [
              "array([[44410.,  5712., 37123.,     0., 25757.],\n",
              "       [ 2003.,  1991.,  1990.,  2019.,  2006.]])"
            ]
          },
          "metadata": {
            "tags": []
          },
          "execution_count": 82
        }
      ]
    },
    {
      "cell_type": "markdown",
      "metadata": {
        "id": "uKqPxg2Zltpo"
      },
      "source": [
        "## *ndarray.shape*\n",
        "\n",
        "Retorna uma tupla com as dimensões do array."
      ]
    },
    {
      "cell_type": "code",
      "metadata": {
        "id": "gmaZhF04ltpp",
        "colab": {
          "base_uri": "https://localhost:8080/"
        },
        "outputId": "e681591e-3ed0-417a-e688-66985350c8d0"
      },
      "source": [
        "dados.shape"
      ],
      "execution_count": 83,
      "outputs": [
        {
          "output_type": "execute_result",
          "data": {
            "text/plain": [
              "(2, 5)"
            ]
          },
          "metadata": {
            "tags": []
          },
          "execution_count": 83
        }
      ]
    },
    {
      "cell_type": "markdown",
      "metadata": {
        "id": "XaY6oXkmltpp"
      },
      "source": [
        "## *ndarray.ndim*\n",
        "\n",
        "Retorna o número de dimensões do array."
      ]
    },
    {
      "cell_type": "code",
      "metadata": {
        "id": "inJ4HDjaltpq",
        "colab": {
          "base_uri": "https://localhost:8080/"
        },
        "outputId": "f20e623d-5dbc-4cc1-fbf1-169e5579feeb"
      },
      "source": [
        "dados.ndim"
      ],
      "execution_count": 84,
      "outputs": [
        {
          "output_type": "execute_result",
          "data": {
            "text/plain": [
              "2"
            ]
          },
          "metadata": {
            "tags": []
          },
          "execution_count": 84
        }
      ]
    },
    {
      "cell_type": "markdown",
      "metadata": {
        "id": "ESgVt5xOltpq"
      },
      "source": [
        "## *ndarray.size*\n",
        "\n",
        "Retorna o número de elementos do array."
      ]
    },
    {
      "cell_type": "code",
      "metadata": {
        "id": "BWr4efoiltpq",
        "colab": {
          "base_uri": "https://localhost:8080/"
        },
        "outputId": "cb143192-98f8-4a0e-c476-d9adc2ac69c0"
      },
      "source": [
        "dados.size"
      ],
      "execution_count": 85,
      "outputs": [
        {
          "output_type": "execute_result",
          "data": {
            "text/plain": [
              "10"
            ]
          },
          "metadata": {
            "tags": []
          },
          "execution_count": 85
        }
      ]
    },
    {
      "cell_type": "markdown",
      "metadata": {
        "id": "Ox8JlBM3ltpr"
      },
      "source": [
        "## *ndarray.dtype*\n",
        "\n",
        "Retorna o tipo de dados dos elementos do array."
      ]
    },
    {
      "cell_type": "code",
      "metadata": {
        "id": "npiL84Vfltpu",
        "colab": {
          "base_uri": "https://localhost:8080/"
        },
        "outputId": "878684ef-abee-4ffd-cee3-2e981aaf67db"
      },
      "source": [
        "dados.dtype"
      ],
      "execution_count": 86,
      "outputs": [
        {
          "output_type": "execute_result",
          "data": {
            "text/plain": [
              "dtype('float64')"
            ]
          },
          "metadata": {
            "tags": []
          },
          "execution_count": 86
        }
      ]
    },
    {
      "cell_type": "markdown",
      "metadata": {
        "id": "j7uPN16oltpv"
      },
      "source": [
        "## *ndarray.T*\n",
        "\n",
        "Retorna o array transposto, isto é, converte linhas em colunas e vice versa."
      ]
    },
    {
      "cell_type": "code",
      "metadata": {
        "id": "bLjrrx56ltpv",
        "colab": {
          "base_uri": "https://localhost:8080/"
        },
        "outputId": "fa8b5ad1-4f9d-4cac-a97b-1ebc9e0954c6"
      },
      "source": [
        "dados.T"
      ],
      "execution_count": 87,
      "outputs": [
        {
          "output_type": "execute_result",
          "data": {
            "text/plain": [
              "array([[44410.,  2003.],\n",
              "       [ 5712.,  1991.],\n",
              "       [37123.,  1990.],\n",
              "       [    0.,  2019.],\n",
              "       [25757.,  2006.]])"
            ]
          },
          "metadata": {
            "tags": []
          },
          "execution_count": 87
        }
      ]
    },
    {
      "cell_type": "code",
      "metadata": {
        "id": "5A9SlJQvltpw",
        "colab": {
          "base_uri": "https://localhost:8080/"
        },
        "outputId": "60e6399f-419f-4298-9ad0-d4142518c7ad"
      },
      "source": [
        "dados.transpose()"
      ],
      "execution_count": 88,
      "outputs": [
        {
          "output_type": "execute_result",
          "data": {
            "text/plain": [
              "array([[44410.,  2003.],\n",
              "       [ 5712.,  1991.],\n",
              "       [37123.,  1990.],\n",
              "       [    0.,  2019.],\n",
              "       [25757.,  2006.]])"
            ]
          },
          "metadata": {
            "tags": []
          },
          "execution_count": 88
        }
      ]
    },
    {
      "cell_type": "markdown",
      "metadata": {
        "id": "e9r6ryTrltpw"
      },
      "source": [
        "### Métodos\n",
        "\n",
        "https://numpy.org/doc/1.16/reference/arrays.ndarray.html#array-methods"
      ]
    },
    {
      "cell_type": "markdown",
      "metadata": {
        "id": "SR9KYy-0ltpw"
      },
      "source": [
        "## *ndarray.tolist()*\n",
        "\n",
        "Retorna o array como uma lista Python."
      ]
    },
    {
      "cell_type": "code",
      "metadata": {
        "id": "C2aTAwOXltpw",
        "colab": {
          "base_uri": "https://localhost:8080/"
        },
        "outputId": "00d4f7e5-26ba-4fc8-aff9-77eadb94af82"
      },
      "source": [
        "dados.tolist()"
      ],
      "execution_count": 89,
      "outputs": [
        {
          "output_type": "execute_result",
          "data": {
            "text/plain": [
              "[[44410.0, 5712.0, 37123.0, 0.0, 25757.0],\n",
              " [2003.0, 1991.0, 1990.0, 2019.0, 2006.0]]"
            ]
          },
          "metadata": {
            "tags": []
          },
          "execution_count": 89
        }
      ]
    },
    {
      "cell_type": "markdown",
      "metadata": {
        "id": "bHxcxugPltpx"
      },
      "source": [
        "## *ndarray.reshape(shape[, order])*\n",
        "\n",
        "Retorna um array que contém os mesmos dados com uma nova forma."
      ]
    },
    {
      "cell_type": "code",
      "metadata": {
        "id": "lwESxO71ltpx",
        "colab": {
          "base_uri": "https://localhost:8080/"
        },
        "outputId": "eabc4e5f-b7c9-4ad7-801b-da58763cf221"
      },
      "source": [
        "contador = np.arange(10)\n",
        "contador"
      ],
      "execution_count": 91,
      "outputs": [
        {
          "output_type": "execute_result",
          "data": {
            "text/plain": [
              "array([0, 1, 2, 3, 4, 5, 6, 7, 8, 9])"
            ]
          },
          "metadata": {
            "tags": []
          },
          "execution_count": 91
        }
      ]
    },
    {
      "cell_type": "code",
      "metadata": {
        "id": "sh9poyfzltpy",
        "colab": {
          "base_uri": "https://localhost:8080/"
        },
        "outputId": "d7978cbc-93c9-4b4a-de0d-7d4463fb69cf"
      },
      "source": [
        "contador.reshape(2,5)"
      ],
      "execution_count": 92,
      "outputs": [
        {
          "output_type": "execute_result",
          "data": {
            "text/plain": [
              "array([[0, 1, 2, 3, 4],\n",
              "       [5, 6, 7, 8, 9]])"
            ]
          },
          "metadata": {
            "tags": []
          },
          "execution_count": 92
        }
      ]
    },
    {
      "cell_type": "code",
      "metadata": {
        "id": "5332Xu8-ltpy",
        "colab": {
          "base_uri": "https://localhost:8080/"
        },
        "outputId": "69392727-3df9-46d5-dee9-ffb10a6b532b"
      },
      "source": [
        "contador.reshape((5,2), order='C') #C"
      ],
      "execution_count": 96,
      "outputs": [
        {
          "output_type": "execute_result",
          "data": {
            "text/plain": [
              "array([[0, 1],\n",
              "       [2, 3],\n",
              "       [4, 5],\n",
              "       [6, 7],\n",
              "       [8, 9]])"
            ]
          },
          "metadata": {
            "tags": []
          },
          "execution_count": 96
        }
      ]
    },
    {
      "cell_type": "code",
      "metadata": {
        "id": "2RoZvbgHltpz",
        "colab": {
          "base_uri": "https://localhost:8080/"
        },
        "outputId": "64b463f4-e09b-4e6c-cd6b-cb4ac42cfef4"
      },
      "source": [
        "contador.reshape((5,2), order='F') #Fortran"
      ],
      "execution_count": 95,
      "outputs": [
        {
          "output_type": "execute_result",
          "data": {
            "text/plain": [
              "array([[0, 5],\n",
              "       [1, 6],\n",
              "       [2, 7],\n",
              "       [3, 8],\n",
              "       [4, 9]])"
            ]
          },
          "metadata": {
            "tags": []
          },
          "execution_count": 95
        }
      ]
    },
    {
      "cell_type": "code",
      "metadata": {
        "id": "6q0dJZ-dltp0"
      },
      "source": [
        "km = [44410, 5712, 37123, 0, 25757]\n",
        "anos = [2003, 1991, 1990, 2019, 2006]"
      ],
      "execution_count": 101,
      "outputs": []
    },
    {
      "cell_type": "code",
      "metadata": {
        "id": "bs56aGrkltp0",
        "colab": {
          "base_uri": "https://localhost:8080/"
        },
        "outputId": "d95c1811-6d61-485f-9f64-9724c9c82e2d"
      },
      "source": [
        "info_cars = km + anos\n",
        "info_cars"
      ],
      "execution_count": 102,
      "outputs": [
        {
          "output_type": "execute_result",
          "data": {
            "text/plain": [
              "[44410, 5712, 37123, 0, 25757, 2003, 1991, 1990, 2019, 2006]"
            ]
          },
          "metadata": {
            "tags": []
          },
          "execution_count": 102
        }
      ]
    },
    {
      "cell_type": "code",
      "metadata": {
        "id": "s_GkTk2fltp1",
        "colab": {
          "base_uri": "https://localhost:8080/"
        },
        "outputId": "696272a4-5897-4be9-ecd4-1b64bde55593"
      },
      "source": [
        "np.array(info_cars).reshape(2,5)"
      ],
      "execution_count": 104,
      "outputs": [
        {
          "output_type": "execute_result",
          "data": {
            "text/plain": [
              "array([[44410,  5712, 37123,     0, 25757],\n",
              "       [ 2003,  1991,  1990,  2019,  2006]])"
            ]
          },
          "metadata": {
            "tags": []
          },
          "execution_count": 104
        }
      ]
    },
    {
      "cell_type": "code",
      "metadata": {
        "id": "xodm8DVZltp1",
        "colab": {
          "base_uri": "https://localhost:8080/"
        },
        "outputId": "4c209907-b046-4263-d568-81197cd4d360"
      },
      "source": [
        "np.array(info_cars).reshape((5,2), order='F')"
      ],
      "execution_count": 110,
      "outputs": [
        {
          "output_type": "execute_result",
          "data": {
            "text/plain": [
              "array([[44410,  2003],\n",
              "       [ 5712,  1991],\n",
              "       [37123,  1990],\n",
              "       [    0,  2019],\n",
              "       [25757,  2006]])"
            ]
          },
          "metadata": {
            "tags": []
          },
          "execution_count": 110
        }
      ]
    },
    {
      "cell_type": "code",
      "metadata": {
        "colab": {
          "base_uri": "https://localhost:8080/"
        },
        "id": "MQo0Lfida15t",
        "outputId": "eb807f95-5e0a-474e-b6c6-ad47d11d1662"
      },
      "source": [
        "np.array(info_cars).reshape(2,5).T"
      ],
      "execution_count": 108,
      "outputs": [
        {
          "output_type": "execute_result",
          "data": {
            "text/plain": [
              "array([[44410,  2003],\n",
              "       [ 5712,  1991],\n",
              "       [37123,  1990],\n",
              "       [    0,  2019],\n",
              "       [25757,  2006]])"
            ]
          },
          "metadata": {
            "tags": []
          },
          "execution_count": 108
        }
      ]
    },
    {
      "cell_type": "markdown",
      "metadata": {
        "id": "Tdj5iArbltp2"
      },
      "source": [
        "## *ndarray.resize(new_shape[, refcheck])*\n",
        "\n",
        "Altera a forma e o tamanho do array."
      ]
    },
    {
      "cell_type": "code",
      "metadata": {
        "id": "vB2zxCDtltp2",
        "colab": {
          "base_uri": "https://localhost:8080/"
        },
        "outputId": "9bb5b6df-d413-4459-a74c-f9278ff1065a"
      },
      "source": [
        "dados_new = dados.copy()\n",
        "dados_new"
      ],
      "execution_count": 111,
      "outputs": [
        {
          "output_type": "execute_result",
          "data": {
            "text/plain": [
              "array([[44410.,  5712., 37123.,     0., 25757.],\n",
              "       [ 2003.,  1991.,  1990.,  2019.,  2006.]])"
            ]
          },
          "metadata": {
            "tags": []
          },
          "execution_count": 111
        }
      ]
    },
    {
      "cell_type": "code",
      "metadata": {
        "id": "IMv0m4Multp2",
        "colab": {
          "base_uri": "https://localhost:8080/"
        },
        "outputId": "cc49d018-e53d-4e4d-e981-6300d6a04aca"
      },
      "source": [
        "dados_new.resize((3,5), refcheck=False)\n",
        "dados_new"
      ],
      "execution_count": 114,
      "outputs": [
        {
          "output_type": "execute_result",
          "data": {
            "text/plain": [
              "array([[44410.,  5712., 37123.,     0., 25757.],\n",
              "       [ 2003.,  1991.,  1990.,  2019.,  2006.],\n",
              "       [    0.,     0.,     0.,     0.,     0.]])"
            ]
          },
          "metadata": {
            "tags": []
          },
          "execution_count": 114
        }
      ]
    },
    {
      "cell_type": "code",
      "metadata": {
        "id": "wpAi9928ltp3",
        "colab": {
          "base_uri": "https://localhost:8080/"
        },
        "outputId": "9c2b1161-2684-4293-9ffd-84516006cc89"
      },
      "source": [
        "dados_new[2] = dados_new[0] / (2019 - dados_new[1])\n",
        "dados_new"
      ],
      "execution_count": 115,
      "outputs": [
        {
          "output_type": "stream",
          "text": [
            "/usr/local/lib/python3.6/dist-packages/ipykernel_launcher.py:1: RuntimeWarning: invalid value encountered in true_divide\n",
            "  \"\"\"Entry point for launching an IPython kernel.\n"
          ],
          "name": "stderr"
        },
        {
          "output_type": "execute_result",
          "data": {
            "text/plain": [
              "array([[44410.        ,  5712.        , 37123.        ,     0.        ,\n",
              "        25757.        ],\n",
              "       [ 2003.        ,  1991.        ,  1990.        ,  2019.        ,\n",
              "         2006.        ],\n",
              "       [ 2775.625     ,   204.        ,  1280.10344828,            nan,\n",
              "         1981.30769231]])"
            ]
          },
          "metadata": {
            "tags": []
          },
          "execution_count": 115
        }
      ]
    },
    {
      "cell_type": "markdown",
      "metadata": {
        "id": "GPSk7Q_Dltp4"
      },
      "source": [
        "# 5.5 Estatísticas com arrays Numpy\n",
        "\n",
        "https://numpy.org/doc/1.16/reference/arrays.ndarray.html#calculation\n",
        "\n",
        "e\n",
        "\n",
        "https://numpy.org/doc/1.16/reference/routines.statistics.html\n",
        "\n",
        "e\n",
        "\n",
        "https://numpy.org/doc/1.16/reference/routines.math.html"
      ]
    },
    {
      "cell_type": "code",
      "metadata": {
        "id": "RH2u1orXltp5"
      },
      "source": [
        "anos = np.loadtxt(fname = \"carros-anos.txt\", dtype = int)\n",
        "km = np.loadtxt(fname = \"carros-km.txt\")\n",
        "valor = np.loadtxt(fname = \"carros-valor.txt\")"
      ],
      "execution_count": 119,
      "outputs": []
    },
    {
      "cell_type": "code",
      "metadata": {
        "id": "wbITF7r6ltp5",
        "colab": {
          "base_uri": "https://localhost:8080/"
        },
        "outputId": "7f05c197-a3d6-431e-cd2b-1c1f951bccb1"
      },
      "source": [
        "anos.shape"
      ],
      "execution_count": 120,
      "outputs": [
        {
          "output_type": "execute_result",
          "data": {
            "text/plain": [
              "(258,)"
            ]
          },
          "metadata": {
            "tags": []
          },
          "execution_count": 120
        }
      ]
    },
    {
      "cell_type": "markdown",
      "metadata": {
        "id": "U_x3SOVDltp7"
      },
      "source": [
        "https://numpy.org/doc/1.16/reference/generated/numpy.column_stack.html"
      ]
    },
    {
      "cell_type": "code",
      "metadata": {
        "id": "wefxl-XBltp8"
      },
      "source": [
        "dataset = np.column_stack((anos, km, valor))"
      ],
      "execution_count": 124,
      "outputs": []
    },
    {
      "cell_type": "code",
      "metadata": {
        "id": "OzDTTmj8ltp_",
        "scrolled": true,
        "colab": {
          "base_uri": "https://localhost:8080/"
        },
        "outputId": "20ae93be-90cb-4b76-8f67-466212140acb"
      },
      "source": [
        "dataset.shape"
      ],
      "execution_count": 125,
      "outputs": [
        {
          "output_type": "execute_result",
          "data": {
            "text/plain": [
              "(258, 3)"
            ]
          },
          "metadata": {
            "tags": []
          },
          "execution_count": 125
        }
      ]
    },
    {
      "cell_type": "markdown",
      "metadata": {
        "id": "Me6yUU_RltqA"
      },
      "source": [
        "## *np.mean()*\n",
        "\n",
        "Retorna a média dos elementos do array ao longo do eixo especificado."
      ]
    },
    {
      "cell_type": "code",
      "metadata": {
        "id": "MNEKcP38ltqA",
        "colab": {
          "base_uri": "https://localhost:8080/"
        },
        "outputId": "873e3802-b304-4369-eeba-4566bf9b71c4"
      },
      "source": [
        "np.mean(dataset)"
      ],
      "execution_count": 126,
      "outputs": [
        {
          "output_type": "execute_result",
          "data": {
            "text/plain": [
              "48489.14648578811"
            ]
          },
          "metadata": {
            "tags": []
          },
          "execution_count": 126
        }
      ]
    },
    {
      "cell_type": "code",
      "metadata": {
        "id": "sekHQ84zltqB",
        "colab": {
          "base_uri": "https://localhost:8080/"
        },
        "outputId": "067f8a9b-7264-4391-b988-4776f2bb874b"
      },
      "source": [
        "np.mean(dataset, axis = 0) #a média de cada coluna"
      ],
      "execution_count": 129,
      "outputs": [
        {
          "output_type": "execute_result",
          "data": {
            "text/plain": [
              "array([ 2007.51162791, 44499.41472868, 98960.51310078])"
            ]
          },
          "metadata": {
            "tags": []
          },
          "execution_count": 129
        }
      ]
    },
    {
      "cell_type": "code",
      "metadata": {
        "id": "RpyETIVSltqC",
        "colab": {
          "base_uri": "https://localhost:8080/"
        },
        "outputId": "252261d1-d461-437b-f785-bf797e617808"
      },
      "source": [
        "np.mean(dataset[:, 1])"
      ],
      "execution_count": 130,
      "outputs": [
        {
          "output_type": "execute_result",
          "data": {
            "text/plain": [
              "44499.41472868217"
            ]
          },
          "metadata": {
            "tags": []
          },
          "execution_count": 130
        }
      ]
    },
    {
      "cell_type": "code",
      "metadata": {
        "id": "_-kpcTI8ltqD",
        "scrolled": true,
        "colab": {
          "base_uri": "https://localhost:8080/"
        },
        "outputId": "53aed476-93d6-4180-e2ed-134481887aeb"
      },
      "source": [
        "np.mean(dataset[:, 2])"
      ],
      "execution_count": 132,
      "outputs": [
        {
          "output_type": "execute_result",
          "data": {
            "text/plain": [
              "98960.51310077519"
            ]
          },
          "metadata": {
            "tags": []
          },
          "execution_count": 132
        }
      ]
    },
    {
      "cell_type": "code",
      "metadata": {
        "colab": {
          "base_uri": "https://localhost:8080/"
        },
        "id": "hzhdIplxe77F",
        "outputId": "c6bb467b-5743-42fa-973e-a733bb5ea417"
      },
      "source": [
        "np.mean(dataset[:, 1:], axis = 0, dtype = int)"
      ],
      "execution_count": 134,
      "outputs": [
        {
          "output_type": "execute_result",
          "data": {
            "text/plain": [
              "array([44499, 98960])"
            ]
          },
          "metadata": {
            "tags": []
          },
          "execution_count": 134
        }
      ]
    },
    {
      "cell_type": "code",
      "metadata": {
        "colab": {
          "base_uri": "https://localhost:8080/"
        },
        "id": "vuxP_lDJgZyb",
        "outputId": "d8616825-fbf1-40f4-a1e2-9cb6607aaee2"
      },
      "source": [
        "dataset.mean(axis = 0)"
      ],
      "execution_count": 147,
      "outputs": [
        {
          "output_type": "execute_result",
          "data": {
            "text/plain": [
              "array([ 2007.51162791, 44499.41472868, 98960.51310078])"
            ]
          },
          "metadata": {
            "tags": []
          },
          "execution_count": 147
        }
      ]
    },
    {
      "cell_type": "markdown",
      "metadata": {
        "id": "71jViVBUltqE"
      },
      "source": [
        "## *np.std()*\n",
        "\n",
        "Retorna o desvio padrão dos elementos do array ao longo do eixo especificado."
      ]
    },
    {
      "cell_type": "code",
      "metadata": {
        "id": "lEwUbPx2ltqE",
        "scrolled": true,
        "colab": {
          "base_uri": "https://localhost:8080/"
        },
        "outputId": "c917c12f-b8a1-4f8a-aec3-ccc13d6a05c9"
      },
      "source": [
        "np.std(dataset[:, 1:], axis = 0)"
      ],
      "execution_count": 136,
      "outputs": [
        {
          "output_type": "execute_result",
          "data": {
            "text/plain": [
              "array([39859.82699005, 29754.10115039])"
            ]
          },
          "metadata": {
            "tags": []
          },
          "execution_count": 136
        }
      ]
    },
    {
      "cell_type": "markdown",
      "metadata": {
        "id": "JTUH-vAeltqG"
      },
      "source": [
        "## *ndarray.sum()*\n",
        "\n",
        "Retorna a soma dos elementos do array ao longo do eixo especificado."
      ]
    },
    {
      "cell_type": "code",
      "metadata": {
        "id": "jIi3yoaWltqG",
        "colab": {
          "base_uri": "https://localhost:8080/"
        },
        "outputId": "0cb3c336-952b-4d4e-b923-55a04a168e2b"
      },
      "source": [
        "dataset.sum(axis = 0)"
      ],
      "execution_count": 139,
      "outputs": [
        {
          "output_type": "execute_result",
          "data": {
            "text/plain": [
              "array([  517938.        , 11480849.        , 25531812.37999999])"
            ]
          },
          "metadata": {
            "tags": []
          },
          "execution_count": 139
        }
      ]
    },
    {
      "cell_type": "code",
      "metadata": {
        "id": "X3QYbdYLltqH",
        "colab": {
          "base_uri": "https://localhost:8080/"
        },
        "outputId": "a8a8452a-00f2-4b49-9f1e-c58b1d4821d9"
      },
      "source": [
        "dataset[:, 1].sum(axis=0)"
      ],
      "execution_count": 142,
      "outputs": [
        {
          "output_type": "execute_result",
          "data": {
            "text/plain": [
              "11480849.0"
            ]
          },
          "metadata": {
            "tags": []
          },
          "execution_count": 142
        }
      ]
    },
    {
      "cell_type": "markdown",
      "metadata": {
        "id": "WbBD5ixaltqH"
      },
      "source": [
        "## *np.sum()*\n",
        "\n",
        "Retorna a soma dos elementos do array ao longo do eixo especificado."
      ]
    },
    {
      "cell_type": "code",
      "metadata": {
        "id": "omB6kgWgltqH",
        "colab": {
          "base_uri": "https://localhost:8080/"
        },
        "outputId": "10ead489-e1bc-40a1-d7fa-e5d81dc5a48a"
      },
      "source": [
        "np.sum(dataset, axis=0)"
      ],
      "execution_count": 143,
      "outputs": [
        {
          "output_type": "execute_result",
          "data": {
            "text/plain": [
              "array([  517938.        , 11480849.        , 25531812.37999999])"
            ]
          },
          "metadata": {
            "tags": []
          },
          "execution_count": 143
        }
      ]
    },
    {
      "cell_type": "code",
      "metadata": {
        "id": "LiD4G3kQltqI",
        "colab": {
          "base_uri": "https://localhost:8080/"
        },
        "outputId": "316f1d07-b97b-4f79-f7fd-6eaf91e3ab61"
      },
      "source": [
        "np.sum(dataset[:, 2])"
      ],
      "execution_count": 145,
      "outputs": [
        {
          "output_type": "execute_result",
          "data": {
            "text/plain": [
              "25531812.38"
            ]
          },
          "metadata": {
            "tags": []
          },
          "execution_count": 145
        }
      ]
    },
    {
      "cell_type": "code",
      "metadata": {
        "id": "kpakpnntltqJ"
      },
      "source": [
        ""
      ],
      "execution_count": null,
      "outputs": []
    }
  ]
}